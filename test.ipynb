{
 "cells": [
  {
   "cell_type": "code",
   "execution_count": 1,
   "id": "f6fc4620",
   "metadata": {},
   "outputs": [
    {
     "name": "stdout",
     "output_type": "stream",
     "text": [
      "Requirement already satisfied: python-tsp in /opt/anaconda3/lib/python3.9/site-packages (0.3.1)\n",
      "Requirement already satisfied: numpy in /opt/anaconda3/lib/python3.9/site-packages (from python-tsp) (1.21.5)\n",
      "Requirement already satisfied: requests<3.0.0,>=2.28.0 in /opt/anaconda3/lib/python3.9/site-packages (from python-tsp) (2.28.1)\n",
      "Requirement already satisfied: tsplib95<0.8.0,>=0.7.1 in /opt/anaconda3/lib/python3.9/site-packages (from python-tsp) (0.7.1)\n",
      "Requirement already satisfied: certifi>=2017.4.17 in /opt/anaconda3/lib/python3.9/site-packages (from requests<3.0.0,>=2.28.0->python-tsp) (2021.10.8)\n",
      "Requirement already satisfied: charset-normalizer<3,>=2 in /opt/anaconda3/lib/python3.9/site-packages (from requests<3.0.0,>=2.28.0->python-tsp) (2.0.4)\n",
      "Requirement already satisfied: urllib3<1.27,>=1.21.1 in /opt/anaconda3/lib/python3.9/site-packages (from requests<3.0.0,>=2.28.0->python-tsp) (1.26.9)\n",
      "Requirement already satisfied: idna<4,>=2.5 in /opt/anaconda3/lib/python3.9/site-packages (from requests<3.0.0,>=2.28.0->python-tsp) (3.3)\n",
      "Requirement already satisfied: Deprecated~=1.2.9 in /opt/anaconda3/lib/python3.9/site-packages (from tsplib95<0.8.0,>=0.7.1->python-tsp) (1.2.13)\n",
      "Requirement already satisfied: networkx~=2.1 in /opt/anaconda3/lib/python3.9/site-packages (from tsplib95<0.8.0,>=0.7.1->python-tsp) (2.7.1)\n",
      "Requirement already satisfied: tabulate~=0.8.7 in /opt/anaconda3/lib/python3.9/site-packages (from tsplib95<0.8.0,>=0.7.1->python-tsp) (0.8.9)\n",
      "Requirement already satisfied: Click>=6.0 in /opt/anaconda3/lib/python3.9/site-packages (from tsplib95<0.8.0,>=0.7.1->python-tsp) (8.0.4)\n",
      "Requirement already satisfied: wrapt<2,>=1.10 in /opt/anaconda3/lib/python3.9/site-packages (from Deprecated~=1.2.9->tsplib95<0.8.0,>=0.7.1->python-tsp) (1.12.1)\n",
      "Note: you may need to restart the kernel to use updated packages.\n"
     ]
    }
   ],
   "source": [
    "pip install python-tsp"
   ]
  },
  {
   "cell_type": "code",
   "execution_count": 5,
   "id": "b562226a",
   "metadata": {},
   "outputs": [
    {
     "name": "stdout",
     "output_type": "stream",
     "text": [
      "[0, 1, 2, 9, 5, 8, 7, 4, 3, 6] 179\n"
     ]
    }
   ],
   "source": [
    "# mat sym bdina mn A s7e7a\n",
    "import numpy as np\n",
    "from python_tsp.exact import solve_tsp_dynamic_programming\n",
    "\n",
    "distance_matrix = np.array([\n",
    "        [0, 31, 27, 20, 24, 24, 22, 17, 38, 33],\n",
    "        [31, 0, 12, 45, 35, 39, 43, 49, 44, 35],\n",
    "        [27, 12, 0, 29, 40, 50, 23, 47, 47, 20],\n",
    "        [20, 45, 29, 0, 14, 49, 18, 13, 20, 26],\n",
    "        [24, 35, 40, 14, 0, 48, 29, 19, 36, 28],\n",
    "        [24, 39, 50, 49, 48, 0, 19, 21 ,20, 11],\n",
    "        [22, 43, 23, 18, 29, 19, 0, 44, 46, 46],\n",
    "        [17, 49, 47, 13, 19, 21, 44, 0, 12, 30],\n",
    "        [38, 44, 47, 20, 36, 20, 46, 12, 0, 30],\n",
    "        [33, 35, 20, 26, 28, 11, 46, 30, 30, 0]\n",
    "])\n",
    "permutation, distance = solve_tsp_dynamic_programming(distance_matrix)\n",
    "print(permutation, distance)"
   ]
  },
  {
   "cell_type": "code",
   "execution_count": 1,
   "id": "99095e93",
   "metadata": {},
   "outputs": [
    {
     "name": "stdout",
     "output_type": "stream",
     "text": [
      "[0, 1, 2, 6, 3, 4, 7, 8, 5, 9] 179\n"
     ]
    }
   ],
   "source": [
    "# mat sym bdina mn C ta9riban s7e7a\n",
    "import numpy as np\n",
    "from python_tsp.exact import solve_tsp_dynamic_programming\n",
    "\n",
    "distance_matrix = np.array([\n",
    "    [0, 12, 27, 29, 40, 50, 23, 47, 47, 20],\n",
    "    [12, 0, 31, 45, 35, 39, 43, 49, 44, 35],\n",
    "    [27, 31, 0, 20, 24, 24, 22, 17, 38, 33],\n",
    "    [29, 45, 20, 0, 14, 49, 18, 13, 20, 26],\n",
    "    [40, 35, 24, 14, 0, 48, 29, 19, 36, 28],\n",
    "    [50, 39, 24, 49, 48, 0, 19, 21, 20, 11],\n",
    "    [23, 43, 22, 18, 29, 19, 0, 44, 46, 46],\n",
    "    [47, 49, 17, 13, 19, 21, 44, 0, 12, 30],\n",
    "    [47, 44, 38, 20, 36, 20, 46, 12, 0, 30],\n",
    "    [20, 35, 33, 26, 28, 11, 46, 30, 30, 0]\n",
    "])\n",
    "permutation, distance = solve_tsp_dynamic_programming(distance_matrix)\n",
    "print(permutation, distance)"
   ]
  },
  {
   "cell_type": "code",
   "execution_count": 7,
   "id": "a9232f48",
   "metadata": {},
   "outputs": [
    {
     "name": "stdout",
     "output_type": "stream",
     "text": [
      "[0, 2, 3, 1] 21\n"
     ]
    }
   ],
   "source": [
    "# matrice asym nbdaw mn A s7e7a\n",
    "import numpy as np\n",
    "from python_tsp.exact import solve_tsp_dynamic_programming\n",
    "\n",
    "distance_matrix = np.array([\n",
    "    [0, 2, 9, 10],\n",
    "    [1, 0, 6, 4],\n",
    "    [15, 7, 0, 8],\n",
    "    [6, 3, 12, 0]\n",
    "])\n",
    "permutation, distance = solve_tsp_dynamic_programming(distance_matrix)\n",
    "print(permutation, distance)"
   ]
  },
  {
   "cell_type": "code",
   "execution_count": 8,
   "id": "551d9341",
   "metadata": {},
   "outputs": [
    {
     "name": "stdout",
     "output_type": "stream",
     "text": [
      "[0, 3, 1, 2] 21\n"
     ]
    }
   ],
   "source": [
    "# matrice asym nbdaw mn C m9loba khas t reversa\n",
    "import numpy as np\n",
    "from python_tsp.exact import solve_tsp_dynamic_programming\n",
    "\n",
    "distance_matrix = np.array([\n",
    "    [0, 7, 15, 8],\n",
    "    [6, 0, 1, 4], \n",
    "    [9, 2, 0, 10],\n",
    "    [12, 3, 6, 0]\n",
    "])\n",
    "permutation, distance = solve_tsp_dynamic_programming(distance_matrix)\n",
    "print(permutation, distance)"
   ]
  },
  {
   "cell_type": "code",
   "execution_count": 3,
   "id": "9d5aa5ca",
   "metadata": {},
   "outputs": [
    {
     "name": "stdout",
     "output_type": "stream",
     "text": [
      "[0, 6, 5, 3, 15, 2, 11, 10, 17, 8, 4, 19, 18, 13, 14, 12, 16, 1, 9, 7] 306\n"
     ]
    }
   ],
   "source": [
    "import numpy as np\n",
    "from python_tsp.exact import solve_tsp_dynamic_programming\n",
    "\n",
    "distance_matrix = np.array([\n",
    "    [0, 85, 48, 74, 74, 84, 10, 78, 20, 69, 15, 50, 70, 17, 23, 83, 84, 61, 47, 37],\n",
    "    [38, 0, 78, 65, 85, 77, 78, 30, 76, 12, 29, 33, 34, 13, 37, 41, 73, 42, 89, 50],\n",
    "    [65, 13, 0, 78, 60, 95, 74, 36, 94, 36, 73, 11, 15, 38, 29, 25, 59, 24, 25, 76],\n",
    "    [24, 34, 18, 0, 93, 46, 58, 97, 89, 49, 64, 72, 81, 40, 46, 19, 95, 99, 96, 72],\n",
    "    [55, 22, 21, 16, 0, 99, 96, 45, 12, 37, 21, 88, 38, 48, 26, 15, 94, 76, 42, 12],\n",
    "    [60, 99, 82, 14, 52, 0, 93, 60, 75, 33, 21, 31, 49, 66, 21, 49, 16, 62, 94, 47],\n",
    "    [92, 83, 15, 40, 24, 13, 0, 94, 50, 99, 88, 93, 56, 47, 20, 52, 44, 60, 94, 41],\n",
    "    [11, 27, 87, 97, 68, 19, 85, 0, 65, 91, 90, 99, 60, 50, 12, 85, 37, 59, 28, 96],\n",
    "    [11, 87, 83, 80, 13, 69, 78, 89, 0, 93, 37, 65, 70, 82, 27, 75, 98, 36, 89, 41],\n",
    "    [48, 88, 66, 21, 38, 67, 29, 22, 15, 0, 62, 100, 81, 56, 13, 17, 62, 75, 36, 68],\n",
    "    [44, 57, 45, 44, 59, 72, 48, 27, 89, 63, 0, 87, 43, 13, 54, 72, 23, 13, 16, 38],\n",
    "    [76, 40, 99, 52, 82, 79, 96, 39, 53, 52, 25, 0, 31, 39, 24, 100, 73, 82, 19, 86],\n",
    "    [64, 55, 89, 57, 21, 68, 100, 77, 48, 41, 58, 25, 0, 13, 62, 99, 12, 70, 46, 14],\n",
    "    [83, 34, 44, 71, 81, 68, 56, 46, 75, 38, 50, 98, 61, 0, 18, 63, 51, 74, 70, 56],\n",
    "    [13, 80, 36, 100, 32, 69, 95, 74, 58, 78, 17, 27, 13, 81, 0, 76, 66, 44, 91, 45],\n",
    "    [70, 55, 19, 87, 51, 35, 14, 54, 88, 35, 81, 98, 61, 43, 69, 0, 95, 50, 69, 63],\n",
    "    [13, 28, 87, 36, 39, 46, 89, 31, 15, 62, 82, 78, 62, 60, 19, 79, 0, 61, 32, 70],\n",
    "    [69, 39, 21, 20, 79, 74, 67, 98, 15, 88, 60, 35, 51, 27, 62, 44, 38, 0, 65, 19],\n",
    "    [79, 67, 12, 55, 87, 33, 36, 92, 50, 25, 25, 92, 54, 16, 75, 65, 38, 26, 0, 47],\n",
    "    [26, 24, 99, 47, 95, 94, 98, 100, 60, 89, 83, 33, 18, 17, 35, 31, 40, 44, 10, 0]\n",
    "])\n",
    "permutation, distance = solve_tsp_dynamic_programming(distance_matrix)\n",
    "print(permutation, distance)"
   ]
  },
  {
   "cell_type": "code",
   "execution_count": 3,
   "id": "d25bea7a",
   "metadata": {},
   "outputs": [
    {
     "name": "stdout",
     "output_type": "stream",
     "text": [
      "[0, 2, 3, 1] 21\n"
     ]
    }
   ],
   "source": [
    "import numpy as np\n",
    "from python_tsp.exact import solve_tsp_dynamic_programming\n",
    "\n",
    "distance_matrix = np.array([\n",
    "    [0, 2, 9, 10],\n",
    "    [1, 0, 6, 4],\n",
    "    [15, 7, 0, 8],\n",
    "    [6, 3, 12, 0]\n",
    "])\n",
    "permutation, distance = solve_tsp_dynamic_programming(distance_matrix)\n",
    "print(permutation, distance)"
   ]
  },
  {
   "cell_type": "code",
   "execution_count": 5,
   "id": "64ec893c",
   "metadata": {},
   "outputs": [
    {
     "name": "stdout",
     "output_type": "stream",
     "text": [
      "[0, 2, 1, 3] 23\n"
     ]
    }
   ],
   "source": [
    "import numpy as np\n",
    "from python_tsp.exact import solve_tsp_dynamic_programming\n",
    "\n",
    "distance_matrix = np.array([\n",
    "    [0, 6, 9, 8],\n",
    "    [6, 0, 2, 4],\n",
    "    [9, 2, 0, 10],\n",
    "    [8, 4, 10, 0]\n",
    "])\n",
    "permutation, distance = solve_tsp_dynamic_programming(distance_matrix)\n",
    "print(permutation, distance)"
   ]
  },
  {
   "cell_type": "code",
   "execution_count": null,
   "id": "36ab4fcd",
   "metadata": {},
   "outputs": [],
   "source": []
  }
 ],
 "metadata": {
  "kernelspec": {
   "display_name": "Python 3 (ipykernel)",
   "language": "python",
   "name": "python3"
  },
  "language_info": {
   "codemirror_mode": {
    "name": "ipython",
    "version": 3
   },
   "file_extension": ".py",
   "mimetype": "text/x-python",
   "name": "python",
   "nbconvert_exporter": "python",
   "pygments_lexer": "ipython3",
   "version": "3.9.12"
  }
 },
 "nbformat": 4,
 "nbformat_minor": 5
}
